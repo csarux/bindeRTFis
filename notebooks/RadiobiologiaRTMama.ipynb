{
 "cells": [
  {
   "cell_type": "markdown",
   "id": "767862c8-5fd8-43a1-8b28-adbec8ae2c60",
   "metadata": {},
   "source": [
    "#### Física de la Radioterapia\n",
    "# Visualización de tratamientos de radioterapia\n",
    "## Distribuciones de dosis absorbida\n",
    "-----\n",
    "*Este cuadereno modifica el código de los cuadernos de ejemplo del módulo [scikit-rt](https://scikit-rt.github.io/scikit-rt/examples.html)*\n",
    "\n",
    "Los datos corresponden a una paciente real tratada en el Hospital de Fuenlabrada.\n",
    "\n",
    "Han sido anonimizados de acuerdo a procedimientos validados.\n",
    "\n",
    "**Objetivos**: \n",
    "\n",
    "* Mostrar elementos que aparecen en la planificación de un tratamiento de radioterapia\n",
    "\n",
    "* Comprender las bases radiobiológicas del fraccionamiento de la dosis en radioterapia\n",
    "\n",
    "## Fundamentos\n",
    "\n",
    "En el tratamiento del cáncer de mama la radioterapia se emplea como tratamiento adyuvante a la cirugía. El tumor primario se extirpa y posteriormente se administra una dosis de radiación sobre el lecho tumoral y sobre el resto de la mama.\n",
    "\n",
    "Definiendo un volumen de tratamiento que comprenda el lecho tumoral más un margen para incluir la posible enfermedad microscópica, la experiencia clínica apunta a que se tiene una alta probabilidad de éxito en el tratamiento si la dosis que se administra a ese volumen es de 60 Gy en 30 fracciones. Sobre el volumen que cubre toda la mama la dosis administrada debe ser de 50 Gy en 25 fracciones.\n",
    "\n",
    "Los efectos adversos del tratamiento se cuantifican fundamentalmente por la dosis que reciba el pulmón ipsilateral, siendo un buen indicador predictivo el porcentaje de volumen que recibe una dosis de 20 Gy o superior en relación al volumen total de ese pulmón. Se considera tolerable un tratamiento en el que el volumen de pulmón que recibe 20 Gy es inferior al 25\\% del volumen total. Otro efecto adverso es la aparición de radiodermitis por respuesta aguda de la piel a la radiación. Este efecto es controlado directamente por el oncólogo de radioterapia mediante revisiones en consulta durante el curso del tratamiento. En casos graves puede complicar el desarrollo del tratamiento obligando a parar y descansar durante un tiempo.\n",
    "\n",
    "La manera convencional de aplicar el tratamiento es hacerlo de manera secuencial. Durante 25 fracciones se irradia la mama completa para generar una distribución de dosis todo lo uniforme posible procurando evitar el pulmón. El valor medio de esa distribución de dosis será de 50 Gy y la dispersión de la dosis debe ser tal que no más de un 5\\% de la mama reciba más de 53.5 Gy ni más de un 5\\% de la mama reciba menos de un 47.5 Gy, o dicho en términos relativos, el 95\\% del volumen de la mama recibe al menos el 95\\% de la dosis de prescripción y no más del 5\\% del volumen de la mama recibe más del 107\\% de la dosis de prescripción. A continuación se administraran otras cinco fracciones en las se procurará irradiar únicamente el volumen del lecho tumoral hasta que en este volumen se tenga una distribución de dosis con un valor medio de 60 Gy y de nuevo con una dispersión tal que se cumplan los criterios del 5\\% aplicados al 95\\% y al 107\\% de la dosis de prescripción. En el argot de la radioterapia a la irradiación del volumen reducido se la denomina \\textit{Boost} o Sobreimpresión.\n",
    "\n",
    "Los avances técnicos han permitido realizar el tratamiento de manera concurrente. Los dos volúmenes se irradian en el mismo número de sesiones prescribiendo diferente dosis por sesión en cada uno de ellos. El tratamiento se acorta en el tiempo y la distribución de dosis se optimiza en mayor medida. La tendencia actual es realizar los tratamientos en menos fracciones.\n",
    "\n",
    "En radioterapia la evaluación de los planes de tratamiento se realiza mediante mapas de dosis sobre cortes tomográficos e histogramas dosis volumen (DVH). Los oncólogos de radioterapia valoran la conformación de la dosis a los volúmenes de tratamiento y la protección de las estructuras de riesgo. Los DVH reducen la información de la distribución de dosis permitiendo evaluar la cantidad de volumen irradiado con una dosis dada. Lo habitual es presentarlos como histogramas acumulados invertidos de manera que cada punto del histograma nos da el volumen que recibe al menos la dosis considerada.\n",
    "\n",
    "## Visualización de distribuciones de dosis\n",
    "\n",
    "Esta primera parte del cuaderno emplea el módulo python `scikit-rt` para generar gráficos interactivos que permiten visualizar distribuciones de dosis empleadas en radioterapia.\n",
    "\n",
    "Todos los sistemas de planificación de radioterapia ofrecen estas mismas representaciones. Los gráficos presentados aquí son menos versátiles que los de los programas de planificación pero básicamente tienen la misma funcionalidad.\n",
    "\n",
    "Se asume que estamos corriendo el cuaderno en `jupyterlab`, bien sea en la distribución proporcionada en `mybinder` o en una instalación local.\n",
    "\n",
    "### Subida de datos\n",
    "\n",
    "En la barra lateral seleccionar el icono `File Browser`\n",
    "\n",
    "Seleccionar la carpeta `data`\n",
    "\n",
    "Pinchar sobre el icono `Upload Files`\n",
    "\n",
    "Subir el archivo comprimido `MamaDer001.zip`\n",
    "\n",
    "Importación de módulos y configuración de opciones"
   ]
  },
  {
   "cell_type": "code",
   "execution_count": null,
   "id": "12234a2e-8cf2-4a99-8fb7-a856dec53a58",
   "metadata": {},
   "outputs": [],
   "source": [
    "from skrt import Dose, Patient\n",
    "from skrt.core import get_data_by_filename\n",
    "import gdown\n",
    "\n",
    "import matplotlib as mpl\n",
    "import matplotlib.pyplot as plt\n",
    "import numpy as np\n",
    "\n",
    "# Set scikit-rt viewer options.\n",
    "options = {}\n",
    "# Make display interactive (\"no_ui\": False) or non-interactive (\"no_ui\": True).\n",
    "options[\"no_ui\"] = False\n",
    "# Include the interface for interactive zooming.\n",
    "options[\"zoom_ui\"] = not options[\"no_ui\"]\n",
    "# Use centre left of legend as reference point for fixing its location.\n",
    "options[\"legend_loc\"] = \"center left\"\n",
    "# Set coordinates of legend reference point,\n",
    "# in system where image axes extend from 0 to 1.\n",
    "options[\"legend_bbox_to_anchor\"] = (1.8, 0.5)\n",
    "# Set figure size in inches.\n",
    "options[\"figsize\"] = (13, 6)\n",
    "# Overlay default image annotation (slice z-coordinate), in white, at default position (top left or image).\n",
    "options[\"annotate_slice\"] = {\"color\": \"white\", \"fontsize\": 24}"
   ]
  },
  {
   "cell_type": "markdown",
   "id": "336ba453-6a97-42fb-9dcc-df80e3c2ed97",
   "metadata": {},
   "source": [
    "Descargar y descomprimir los datos de la paciente"
   ]
  },
  {
   "cell_type": "code",
   "execution_count": null,
   "id": "b6825704-d727-4410-9805-7ed714ca691b",
   "metadata": {},
   "outputs": [],
   "source": [
    "# Descargar los datos compartidos de Google Drive\n",
    "url = 'https://drive.google.com/file/d/1ICECuwHhMBoMwioQ96-UpkV43v0kNneI/view?usp=sharing'\n",
    "output = '../data/MamaDer001.zip'\n",
    "gdown.download(url, output, quiet=False, fuzzy=True)\n",
    "\n",
    "# Descomprimir el archivo zip\n",
    "!bash ../shell_scripts/preparar_datos > /dev/null"
   ]
  },
  {
   "cell_type": "markdown",
   "id": "a7e2354f-1eb9-493f-99d4-5e4b7e20a00b",
   "metadata": {},
   "source": [
    "Leer los datos de la paciente e identificar los planes de tratamiento y sus correspondientes distribuciones de dosis:\n",
    "- *Secuencial*: compuesto por **mama** y **boost**. La combinación de ambos corresponde al plan **suma**\n",
    "- *Concurrente*: plan **SIB** del inglés **S**imultaneous **I**ntegrated **B**oost"
   ]
  },
  {
   "cell_type": "code",
   "execution_count": null,
   "id": "1281451a-5442-437c-baf8-3f80fb0ba159",
   "metadata": {},
   "outputs": [],
   "source": [
    "patient = Patient('../data/MamaDer001', unsorted_dicom=True)\n",
    "(suma, boost, SIB, mama) = (0, 1, 2, 3)"
   ]
  },
  {
   "cell_type": "markdown",
   "id": "4d879313-a984-43b3-8c08-dc31301d0ac9",
   "metadata": {},
   "source": [
    "Al ejecutar la siguiente celda se generara un gráfico interactivo que nos permite visualizar las distribuciones de dosis correspondientes a los diferentes esquemas de tratamiento. Para seleccionar un esquema dado basta con modificar el `plan_ID`asociado.\n",
    "\n",
    "Para visualizar planos axiales tiene que estar seleccionado `x-y` en `Slice plane selection`"
   ]
  },
  {
   "cell_type": "code",
   "execution_count": null,
   "id": "effc2900-1810-41bf-8b2f-eaad88f550ab",
   "metadata": {},
   "outputs": [],
   "source": [
    "plan_ID = suma # Para representar otras distribuciones de dosis cambiar el plan_ID seleccionando (mama, boost, suma, SIB)\n",
    "# Obtain references to selected objects.\n",
    "ct = patient.studies[0].ct_images[0]\n",
    "dose = patient.studies[0].ct_doses[plan_ID]\n",
    "plan = patient.studies[0].ct_plans[plan_ID]\n",
    "plan.load_constraints()\n",
    "ss1 = patient.studies[0].ct_structure_sets[0]\n",
    "ss1.set_image(ct)\n",
    "ss1.name = \"plan\"\n",
    "dose.resample(voxel_size=ct.voxel_size)\n",
    "dose.origin = ct.origin\n",
    "# Set options differently depending on whether notebook is to be used interactively.\n",
    "roi_plot_type = \"contour\" if options[\"no_ui\"] else \"none\"\n",
    "dose_opacity = 0.5 if options[\"no_ui\"] else None\n",
    "\n",
    "# Display image and associated data.\n",
    "ct.view(dose=dose, rois=ss1, roi_plot_type=roi_plot_type, legend=True,\n",
    "        colorbar=2, dose_opacity=dose_opacity, **options);"
   ]
  },
  {
   "cell_type": "markdown",
   "id": "55180dc4-c06b-4b48-8667-63e6a7a7ceb9",
   "metadata": {},
   "source": [
    "Identificar los índices de estructuras relevantes"
   ]
  },
  {
   "cell_type": "code",
   "execution_count": null,
   "id": "f611992b-22ae-45a2-b005-0c3bf8829c1a",
   "metadata": {},
   "outputs": [],
   "source": [
    "ptvboost, ptvmama, pulmonder = 7, 8, 9"
   ]
  },
  {
   "cell_type": "markdown",
   "id": "d840850b-60f9-4def-b5b7-e50f7141f6b9",
   "metadata": {},
   "source": [
    "Representar un *DVH*, histograma dosis volumen "
   ]
  },
  {
   "cell_type": "code",
   "execution_count": null,
   "id": "82ab49a1-a939-4e35-a54d-90559026e61a",
   "metadata": {},
   "outputs": [],
   "source": [
    "dose = patient.studies[0].ct_doses[plan_ID]\n",
    "dose.plot_dvh([ss1[ptvboost], ss1[ptvmama], ss1[pulmonder]], bins=1000, figsize=(12,6));"
   ]
  },
  {
   "cell_type": "code",
   "execution_count": null,
   "id": "4f8b8cb2-dd28-45bc-adcf-6d37a8fe72b6",
   "metadata": {},
   "outputs": [],
   "source": [
    "from dicompylercore import dicomparser, dvh, dvhcalc"
   ]
  },
  {
   "cell_type": "markdown",
   "id": "36f48595-1761-4c6d-afcd-373ef23d18c2",
   "metadata": {},
   "source": [
    "Identificar los archivos DICOM con las estructuras y las distribuciones de dosis"
   ]
  },
  {
   "cell_type": "code",
   "execution_count": null,
   "id": "e84b4b7e-fb35-44be-b25a-d1e102b1e047",
   "metadata": {},
   "outputs": [],
   "source": [
    "# Archivo DICOM de estructuras: órganos blanco y órganos de riesgo\n",
    "dcm_ss = '../data/MamaDer001/20230116_095704/RTSTRUCT/CT/20230116_095704/RS.1.2.246.352.205.5566667512400723974.375329800850442140.dcm'\n",
    "# Archivos DICOM de distribuciones de dosis\n",
    "dcm_dose_mama = '../data/MamaDer001/20230116_095704/RTDOSE/CT/20230116_095704/RD.1.2.246.352.221.56180825880144060698193516247443136422.dcm'\n",
    "dcm_dose_boost = '../data/MamaDer001/20230116_095704/RTDOSE/CT/20230116_095704/RD.1.2.246.352.221.488893207455186615011534392364350689689.dcm'\n",
    "dcm_dose_suma = '../data/MamaDer001/20230116_095704/RTDOSE/CT/20230116_095704/RD.1.2.246.352.221.47352446189117142439988284232660965553.dcm'\n",
    "dcm_dose_SIB = '../data/MamaDer001/20230116_095704/RTDOSE/CT/20230116_095704/RD.1.2.246.352.221.52708297311437444114737711031232263301.dcm'"
   ]
  },
  {
   "cell_type": "markdown",
   "id": "401105b4-2605-41a4-a7e5-560d1d4890a4",
   "metadata": {},
   "source": [
    "Definir los índices de las estructuras relevantes según figuran en el archivo DICOM"
   ]
  },
  {
   "cell_type": "code",
   "execution_count": null,
   "id": "d0be6ba5-16dc-481b-91e0-b6802c5dcf51",
   "metadata": {},
   "outputs": [],
   "source": [
    "dcm_ptvboost, dcm_ptvmama, dcm_pulmonder = 14, 15, 16"
   ]
  },
  {
   "cell_type": "code",
   "execution_count": null,
   "id": "e1427163-fd5a-40d8-a194-d67012bc5441",
   "metadata": {},
   "outputs": [],
   "source": [
    "ptvboost_dvh = dvhcalc.get_dvh(dcm_ss, dcm_dose_SIB, dcm_ptvboost)\n",
    "ptvmama_dvh = dvhcalc.get_dvh(dcm_ss, dcm_dose_SIB, dcm_ptvmama)\n",
    "pulmonder_dvh = dvhcalc.get_dvh(dcm_ss, dcm_dose_SIB, dcm_pulmonder)"
   ]
  },
  {
   "cell_type": "code",
   "execution_count": null,
   "id": "f754ef14-9e01-4687-af30-df53d8f6759a",
   "metadata": {},
   "outputs": [],
   "source": [
    "pulmonder_dvh.describe()"
   ]
  },
  {
   "cell_type": "code",
   "execution_count": null,
   "id": "2c9be604-4798-4f23-9ce5-37837000c7bf",
   "metadata": {},
   "outputs": [],
   "source": [
    "ptvmama_dvh.describe()"
   ]
  },
  {
   "cell_type": "code",
   "execution_count": null,
   "id": "b9df435c-f41d-4b43-a448-f43f010cb0a8",
   "metadata": {},
   "outputs": [],
   "source": [
    "ptvboost_dvh.describe()"
   ]
  },
  {
   "cell_type": "code",
   "execution_count": null,
   "id": "02908e80-4bbb-4a80-8401-1f16daa4378b",
   "metadata": {},
   "outputs": [],
   "source": [
    "ptvboost_dvh.D5"
   ]
  },
  {
   "cell_type": "code",
   "execution_count": null,
   "id": "8db251a7-2f41-4f67-a226-34152041204f",
   "metadata": {},
   "outputs": [],
   "source": [
    "ptvmama_dvh.D5"
   ]
  },
  {
   "cell_type": "code",
   "execution_count": null,
   "id": "031ffce5-68cd-49fc-9ead-71ecd022721d",
   "metadata": {},
   "outputs": [],
   "source": [
    "pulmonder_dvh.volume_constraint(20, dose_units='absolute').value / pulmonder_dvh.volume * 100"
   ]
  },
  {
   "cell_type": "code",
   "execution_count": null,
   "id": "00d7f476-fd47-41d1-822c-edbec82d5061",
   "metadata": {},
   "outputs": [],
   "source": [
    "pulmonder_dvh.relative_volume.statistic('V20Gy')"
   ]
  }
 ],
 "metadata": {
  "kernelspec": {
   "display_name": "Python 3 (ipykernel)",
   "language": "python",
   "name": "python3"
  },
  "language_info": {
   "codemirror_mode": {
    "name": "ipython",
    "version": 3
   },
   "file_extension": ".py",
   "mimetype": "text/x-python",
   "name": "python",
   "nbconvert_exporter": "python",
   "pygments_lexer": "ipython3",
   "version": "3.9.18"
  }
 },
 "nbformat": 4,
 "nbformat_minor": 5
}
