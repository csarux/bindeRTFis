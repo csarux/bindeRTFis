{
 "cells": [
  {
   "cell_type": "markdown",
   "id": "767862c8-5fd8-43a1-8b28-adbec8ae2c60",
   "metadata": {},
   "source": [
    "#### Física de la Radioterapia. Master de Física Biomédica. Universidad Complutense de Madrid\n",
    "# Visualización de tratamientos de radioterapia\n",
    "## Distribuciones de dosis absorbida\n",
    "-----\n",
    "*Este cuadereno modifica el código de los cuadernos de ejemplo del módulo [scikit-rt](https://scikit-rt.github.io/scikit-rt/examples.html)*\n",
    "\n",
    "Los datos corresponden a una paciente real tratada en el Hospital de Fuenlabrada.\n",
    "\n",
    "Han sido anonimizados de acuerdo a procedimientos validados.\n",
    "\n",
    "**Objetivos**: \n",
    "\n",
    "* Mostrar elementos que aparecen en la planificación de un tratamiento de radioterapia\n",
    "\n",
    "* Comprender las bases radiobiológicas del fraccionamiento de la dosis en radioterapia\n",
    "\n",
    "## Fundamentos\n",
    "\n",
    "Los conceptos básicos sobre los que se trabajará en este cuaderno corresponden a un tratamiento de mama, una de las patologías que con más frecuencia se trata en los Servicios de Radioterapia, pero son aplicables en general a cualquier otra patología. \n",
    "\n",
    "En el tratamiento del cáncer de mama la radioterapia se emplea como tratamiento adyuvante a la cirugía. El tumor primario se extirpa y posteriormente se administra una dosis de radiación sobre el lecho tumoral y sobre el resto de la mama.\n",
    "\n",
    "Definiendo un volumen de tratamiento que comprenda el lecho tumoral más un margen para incluir la posible enfermedad microscópica, la experiencia clínica apunta a que se tiene una alta probabilidad de éxito en el tratamiento si la dosis que se administra a ese volumen es de 60 Gy en 30 fracciones. Sobre el volumen que cubre toda la mama la dosis administrada debe ser de 50 Gy en 25 fracciones.\n",
    "\n",
    "Los efectos adversos del tratamiento se cuantifican fundamentalmente por la dosis que reciba el pulmón ipsilateral, siendo un buen indicador predictivo el porcentaje de volumen que recibe una dosis de 20 Gy o superior en relación al volumen total de ese pulmón. Se considera tolerable un tratamiento en el que el volumen de pulmón que recibe 20 Gy es inferior al 25\\% del volumen total. Otro efecto adverso es la aparición de radiodermitis por respuesta aguda de la piel a la radiación. Este efecto es controlado directamente por el oncólogo de radioterapia mediante revisiones en consulta durante el curso del tratamiento. En casos graves puede complicar el desarrollo del tratamiento obligando a parar y descansar durante un tiempo.\n",
    "\n",
    "La manera convencional de aplicar el tratamiento es hacerlo de manera secuencial. Durante 25 fracciones se irradia la mama completa para generar una distribución de dosis todo lo uniforme posible procurando evitar el pulmón. El valor medio de esa distribución de dosis será de 50 Gy y la dispersión de la dosis debe ser tal que no más de un 5\\% de la mama reciba más de 53.5 Gy ni más de un 5\\% de la mama reciba menos de un 47.5 Gy, o dicho en términos relativos, el 95\\% del volumen de la mama recibe al menos el 95\\% de la dosis de prescripción y no más del 5\\% del volumen de la mama recibe más del 107\\% de la dosis de prescripción. A continuación se administraran otras cinco fracciones en las se procurará irradiar únicamente el volumen del lecho tumoral hasta que en este volumen se tenga una distribución de dosis con un valor medio de 60 Gy y de nuevo con una dispersión tal que se cumplan los criterios del 5\\% aplicados al 95\\% y al 107\\% de la dosis de prescripción. En el argot de la radioterapia a la irradiación del volumen reducido se la denomina \\textit{Boost} o Sobreimpresión.\n",
    "\n",
    "Los avances técnicos han permitido realizar el tratamiento de manera concurrente. Los dos volúmenes se irradian en el mismo número de sesiones prescribiendo diferente dosis por sesión en cada uno de ellos. El tratamiento se acorta en el tiempo y la distribución de dosis se optimiza en mayor medida. La tendencia actual es realizar los tratamientos en menos fracciones.\n",
    "\n",
    "En radioterapia la evaluación de los planes de tratamiento se realiza mediante mapas de dosis sobre cortes tomográficos e histogramas dosis volumen (DVH). Los oncólogos de radioterapia valoran la conformación de la dosis a los volúmenes de tratamiento y la protección de las estructuras de riesgo. Los DVH reducen la información de la distribución de dosis permitiendo evaluar la cantidad de volumen irradiado con una dosis dada. Lo habitual es presentarlos como histogramas acumulados invertidos de manera que cada punto del histograma nos da el volumen que recibe al menos la dosis considerada.\n",
    "\n",
    "## Visualización de distribuciones de dosis\n",
    "\n",
    "Esta primera parte del cuaderno emplea el módulo python `scikit-rt` para generar gráficos interactivos que permiten visualizar distribuciones de dosis empleadas en radioterapia.\n",
    "\n",
    "Todos los sistemas de planificación de radioterapia ofrecen estas mismas representaciones. Los gráficos presentados aquí son menos versátiles que los de los programas de planificación pero básicamente tienen la misma funcionalidad.\n",
    "\n",
    "Se asume que estamos corriendo el cuaderno en `jupyterlab`, bien sea en la distribución proporcionada en `mybinder` o en una instalación local.\n",
    "\n",
    "Comenzamos por importar una serie de módulos que nos harán falta y por configurar algunas opciones"
   ]
  },
  {
   "cell_type": "code",
   "execution_count": 1,
   "id": "12234a2e-8cf2-4a99-8fb7-a856dec53a58",
   "metadata": {},
   "outputs": [],
   "source": [
    "from skrt import Dose, Patient\n",
    "from skrt.core import get_data_by_filename\n",
    "import gdown\n",
    "\n",
    "import matplotlib as mpl\n",
    "import matplotlib.pyplot as plt\n",
    "import numpy as np\n",
    "\n",
    "# Set scikit-rt viewer options.\n",
    "options = {}\n",
    "# Make display interactive (\"no_ui\": False) or non-interactive (\"no_ui\": True).\n",
    "options[\"no_ui\"] = False\n",
    "# Include the interface for interactive zooming.\n",
    "options[\"zoom_ui\"] = not options[\"no_ui\"]\n",
    "# Use centre left of legend as reference point for fixing its location.\n",
    "options[\"legend_loc\"] = \"center left\"\n",
    "# Set coordinates of legend reference point,\n",
    "# in system where image axes extend from 0 to 1.\n",
    "options[\"legend_bbox_to_anchor\"] = (1.8, 0.5)\n",
    "# Set figure size in inches.\n",
    "options[\"figsize\"] = (13, 6)\n",
    "# Overlay default image annotation (slice z-coordinate), in white, at default position (top left or image).\n",
    "options[\"annotate_slice\"] = {\"color\": \"white\", \"fontsize\": 24}"
   ]
  },
  {
   "cell_type": "markdown",
   "id": "336ba453-6a97-42fb-9dcc-df80e3c2ed97",
   "metadata": {},
   "source": [
    "### Subida de datos \n",
    "\n",
    "Los datos de la paciente con las imágenes de CT, estructuras anatómicas relevantes, planes de radioterapia y distribuciones de dosis, se han comprimido y compartido en un archivo zip disponible en [Google Drive](https://drive.google.com/file/d/1ICECuwHhMBoMwioQ96-UpkV43v0kNneI/view?usp=sharing).\n",
    "\n",
    "Al ejecutar el código de la siguiente celda se coloca toda la información de la paciente en la carpeta `data/MamaDer001`"
   ]
  },
  {
   "cell_type": "code",
   "execution_count": null,
   "id": "b6825704-d727-4410-9805-7ed714ca691b",
   "metadata": {},
   "outputs": [],
   "source": [
    "# Descargar los datos compartidos de Google Drive\n",
    "url = 'https://drive.google.com/file/d/1ICECuwHhMBoMwioQ96-UpkV43v0kNneI/view?usp=sharing'\n",
    "output = '../data/MamaDer001.zip'\n",
    "gdown.download(url, output, quiet=False, fuzzy=True)\n",
    "\n",
    "# Descomprimir el archivo zip\n",
    "!bash ../shell_scripts/preparar_datos > /dev/null"
   ]
  },
  {
   "cell_type": "markdown",
   "id": "a7e2354f-1eb9-493f-99d4-5e4b7e20a00b",
   "metadata": {},
   "source": [
    "Leer los datos de la paciente e identificar los planes de tratamiento y sus correspondientes distribuciones de dosis:\n",
    "- *Secuencial*: compuesto por **mama** y **boost**. La combinación de ambos corresponde al plan **suma**\n",
    "- *Concurrente*: plan **SIB** del inglés **S**imultaneous **I**ntegrated **B**oost"
   ]
  },
  {
   "cell_type": "code",
   "execution_count": 2,
   "id": "1281451a-5442-437c-baf8-3f80fb0ba159",
   "metadata": {},
   "outputs": [],
   "source": [
    "patient = Patient('../data/MamaDer001', unsorted_dicom=True)\n",
    "(suma, boost, SIB, mama) = (0, 1, 2, 3)"
   ]
  },
  {
   "cell_type": "markdown",
   "id": "4d879313-a984-43b3-8c08-dc31301d0ac9",
   "metadata": {},
   "source": [
    "Al ejecutar la siguiente celda se generara un gráfico interactivo que nos permite visualizar las distribuciones de dosis correspondientes a los diferentes esquemas de tratamiento. \n",
    "\n",
    "- Para seleccionar un esquema dado basta con modificar el `plan_ID`asociado\n",
    "- Para visualizar planos axiales tiene que estar seleccionado `x-y` en `Slice plane selection`\n",
    "- Hacer visible la segmentación de las estructuras anatómicas relevantes. Seleccionar una opción en `ROI plotting` distinta de `none`. Lo habitual en Radioterapia es trabajar en la opción `contour`\n",
    "- Hacer visible la distribución de dosis mediante el control `Dose opacity`\n",
    "- Seleccionar las estructuras relevantes para lo que vamos a trabahar en este cuaderno: PTV boost dcho, PTV mama dcha, Pulmon Dcho.\n",
    "- Hacer `Zoom` y centrar la imagen en las regiones que se irradian directamente mediante los controles `x centre (mm)` e `y centre (mm)`. La figura debería mostrar una imagen similar a esta\n",
    "![image](../images/zoom.png)\n",
    "- Desplazarse en la dirección craneo caudal cambiando el valor del control `z (mm)`. Una vez seleccionado este control los cursores del teclado nos permiten desplazarnos corte a corte del estudio de CT."
   ]
  },
  {
   "cell_type": "code",
   "execution_count": 3,
   "id": "effc2900-1810-41bf-8b2f-eaad88f550ab",
   "metadata": {},
   "outputs": [
    {
     "data": {
      "application/vnd.jupyter.widget-view+json": {
       "model_id": "ad55b7b8d8d7434185bd14ccbfc627d1",
       "version_major": 2,
       "version_minor": 0
      },
      "text/plain": [
       "VBox(children=(HBox(children=(VBox(children=(RadioButtons(description='Slice plane selection:', options=('x-y'…"
      ]
     },
     "metadata": {},
     "output_type": "display_data"
    },
    {
     "data": {
      "application/vnd.jupyter.widget-view+json": {
       "model_id": "f7f90c07059b45e7b47a6484a9ee1ead",
       "version_major": 2,
       "version_minor": 0
      },
      "text/plain": [
       "Output()"
      ]
     },
     "metadata": {},
     "output_type": "display_data"
    },
    {
     "data": {
      "application/vnd.jupyter.widget-view+json": {
       "model_id": "827a2adca807441fa2232687b4b7ae6b",
       "version_major": 2,
       "version_minor": 0
      },
      "text/plain": [
       "VBox(children=(HBox(children=(HTML(value='\\n        <head>\\n            <style>\\n                th, td {\\n   …"
      ]
     },
     "metadata": {},
     "output_type": "display_data"
    }
   ],
   "source": [
    "plan_ID = boost # Para representar otras distribuciones de dosis cambiar el plan_ID seleccionando (mama, boost, suma, SIB)\n",
    "# Obtain references to selected objects.\n",
    "ct = patient.studies[0].ct_images[0]\n",
    "dose = patient.studies[0].ct_doses[plan_ID]\n",
    "plan = patient.studies[0].ct_plans[plan_ID]\n",
    "plan.load_constraints()\n",
    "ss1 = patient.studies[0].ct_structure_sets[0]\n",
    "ss1.set_image(ct)\n",
    "ss1.name = \"plan\"\n",
    "dose.resample(voxel_size=ct.voxel_size)\n",
    "dose.origin = ct.origin\n",
    "# Set options differently depending on whether notebook is to be used interactively.\n",
    "roi_plot_type = \"contour\" if options[\"no_ui\"] else \"none\"\n",
    "dose_opacity = 0.5 if options[\"no_ui\"] else None\n",
    "\n",
    "# Display image and associated data.\n",
    "ct.view(dose=dose, rois=ss1, roi_plot_type=roi_plot_type, legend=True,\n",
    "        colorbar=2, dose_opacity=dose_opacity, **options);"
   ]
  },
  {
   "cell_type": "markdown",
   "id": "ab2a0d86-f0da-4b28-9f32-42cf46ad95f0",
   "metadata": {},
   "source": [
    "#### Cuestiones\n",
    "\n",
    "1. Desplazándose por las imágenes de CT determinar cuál es la extensión en la dirección craneo caudal de\n",
    "- PTV mama dcha\n",
    "- PTV boost dcho\n",
    "- Pulmón dcho\n",
    "\n",
    "En las imágenes se pueden apreciar unos objetos brillantes colocados sobre la superficie de la paciente. Sirven para señalar la cicatriz resultado de la intervención quirúrgica previa a la radioterapia.\n",
    "\n",
    "2. Determinar la extensión de la cicatriz en la dirección craneo caudal.\n",
    "1. Indicar si la posición de la cicatriz en la mama coincide con el volumen de PTV boost dcho.\n",
    "1. ¿Qué estructura tiene mayor extensión la cicatriz o el PTV boost dcho? Comentar qué razones pensamos que motivan esta diferencia de extensión\n",
    "\n",
    "Dentro de la mama se puden apreciar puntos brillantes que claramente no son de origen natural. Son grapas quirúrgicas.\n",
    "\n",
    "5. Indicar en qué cortes tomográgicos se ven grapas \n",
    "1. ¿Se encuentran todas las grapas dentro del volumen PTV boost dcho? Comentar la relación entre la posición de las grapas y la del PTV boost.\n",
    "1. Cambiando en el gráfico el `plan_ID` entre `{mama, boost, suma}` para cada uno de los planes describir, de forma aproximada, la extensión de los niveles de dosis de tratamiento explicados en la sección **Fundamentos** e indicar si se cubren los volúmenes de tratamiento.\n",
    "1. Seleccionando como `plan_ID` `SIB` realizar a partir de la figura una primera estimación de las dosis de tratamiento en el PTV mama dcha y el PTV boost dcho"
   ]
  },
  {
   "cell_type": "markdown",
   "id": "55180dc4-c06b-4b48-8667-63e6a7a7ceb9",
   "metadata": {},
   "source": [
    "## Histogramas dosis volumen\n",
    "\n",
    "Como ya hemos indicado en **Fundamentos** visualizar la dosis permite valorar su distribución espacial pero no es un método sencillo de realizar evaluaciones cuantitativas. \n",
    "\n",
    "En las celdas siguientes mostraremos gráficas de *DVH*, histograma dosis volumen, para ayudar a comprender en qué consisten estos objetos.\n",
    "\n",
    "Comenzamos introduciendo una identificación de las estructuras relevantes"
   ]
  },
  {
   "cell_type": "code",
   "execution_count": 4,
   "id": "f611992b-22ae-45a2-b005-0c3bf8829c1a",
   "metadata": {},
   "outputs": [],
   "source": [
    "ptvboost, ptvmama, pulmonder = 7, 8, 9"
   ]
  },
  {
   "cell_type": "markdown",
   "id": "d840850b-60f9-4def-b5b7-e50f7141f6b9",
   "metadata": {},
   "source": [
    "`scikit-rt` proporciona herramientas para obtener y representar *DVH*s a partir de una distribución de dosis y un conjunto de estructuras. La siguiente celda muestra un ejemplo de cómo hacerlo para el plan `suma`"
   ]
  },
  {
   "cell_type": "code",
   "execution_count": 5,
   "id": "82ab49a1-a939-4e35-a54d-90559026e61a",
   "metadata": {},
   "outputs": [
    {
     "data": {
      "image/png": "[encoded data removed]",
      "text/plain": [
       "<Figure size 864x432 with 1 Axes>"
      ]
     },
     "metadata": {
      "needs_background": "light"
     },
     "output_type": "display_data"
    }
   ],
   "source": [
    "plan_ID = suma\n",
    "dose = patient.studies[0].ct_doses[plan_ID]\n",
    "dose.plot_dvh([ss1[ptvboost], ss1[ptvmama], ss1[pulmonder]], bins=1000, figsize=(12,6));"
   ]
  },
  {
   "cell_type": "markdown",
   "id": "abd5e1ee-fb4b-4be1-8d70-7bcd6e262e1b",
   "metadata": {},
   "source": [
    "La figura anterior muestra los *DVH*s pero no nos da valores concretos sobre los mismos. Para poder realizar una evaluadción más detallada necesitamos utilizar algunas funciones de otro modulo orientado a la radioterapia denominado `dicompylercore`"
   ]
  },
  {
   "cell_type": "code",
   "execution_count": 6,
   "id": "4f8b8cb2-dd28-45bc-adcf-6d37a8fe72b6",
   "metadata": {},
   "outputs": [],
   "source": [
    "from dicompylercore import dvh, dvhcalc"
   ]
  },
  {
   "cell_type": "markdown",
   "id": "36f48595-1761-4c6d-afcd-373ef23d18c2",
   "metadata": {},
   "source": [
    "El objeto `dvhcalc` tiene un método denominado `get_dvh` que devuelve un objeto `dvh` correspondiente a una estructura dada dentro de un conjunto de estructuras y una distribución de dosis.\n",
    "\n",
    "En la siguiente celda identificamos los archivos DICOM con las estructuras y las distribuciones de dosis"
   ]
  },
  {
   "cell_type": "code",
   "execution_count": 7,
   "id": "e84b4b7e-fb35-44be-b25a-d1e102b1e047",
   "metadata": {},
   "outputs": [],
   "source": [
    "# Archivo DICOM de estructuras: órganos blanco y órganos de riesgo\n",
    "dcm_ss = '../data/MamaDer001/20230116_095704/RTSTRUCT/CT/20230116_095704/RS.1.2.246.352.205.5566667512400723974.375329800850442140.dcm'\n",
    "# Archivos DICOM de distribuciones de dosis\n",
    "dcm_dose_mama = '../data/MamaDer001/20230116_095704/RTDOSE/CT/20230116_095704/RD.1.2.246.352.221.56180825880144060698193516247443136422.dcm'\n",
    "dcm_dose_boost = '../data/MamaDer001/20230116_095704/RTDOSE/CT/20230116_095704/RD.1.2.246.352.221.488893207455186615011534392364350689689.dcm'\n",
    "dcm_dose_suma = '../data/MamaDer001/20230116_095704/RTDOSE/CT/20230116_095704/RD.1.2.246.352.221.47352446189117142439988284232660965553.dcm'\n",
    "dcm_dose_SIB = '../data/MamaDer001/20230116_095704/RTDOSE/CT/20230116_095704/RD.1.2.246.352.221.52708297311437444114737711031232263301.dcm'"
   ]
  },
  {
   "cell_type": "markdown",
   "id": "401105b4-2605-41a4-a7e5-560d1d4890a4",
   "metadata": {},
   "source": [
    "La siguiente celda sirve para definir los índices de las estructuras relevantes según figuran en el archivo DICOM"
   ]
  },
  {
   "cell_type": "code",
   "execution_count": 8,
   "id": "d0be6ba5-16dc-481b-91e0-b6802c5dcf51",
   "metadata": {},
   "outputs": [],
   "source": [
    "dcm_ptvboost, dcm_ptvmama, dcm_pulmonder = 14, 15, 16"
   ]
  },
  {
   "cell_type": "markdown",
   "id": "8cc808b5-aee5-40df-b463-b21a2399b251",
   "metadata": {},
   "source": [
    "Con estas identificaciones para obtener el *DVH* correspondiente al PTV boost dcho en la distribución de dosis del plan `suma` tendremos que escribir"
   ]
  },
  {
   "cell_type": "code",
   "execution_count": 9,
   "id": "bf9ec1a2-6204-4158-be5e-59e17d3beb3d",
   "metadata": {},
   "outputs": [],
   "source": [
    "ptvboost_dvh = dvhcalc.get_dvh(dcm_ss, dcm_dose_suma, dcm_ptvboost)"
   ]
  },
  {
   "cell_type": "markdown",
   "id": "6b3019d0-4d0d-433b-a369-040a293ebd01",
   "metadata": {},
   "source": [
    "El objeto `dvh` creado tiene muchos métodos útiles para hacer evaluaciones cuantitativas. Una primera reducción de información se puede obtener mediante el método `describe`. Por ejemplo la celda siguiente muestra el resumen correspondiente a `ptv_boost` recién creado"
   ]
  },
  {
   "cell_type": "code",
   "execution_count": 10,
   "id": "b9df435c-f41d-4b43-a448-f43f010cb0a8",
   "metadata": {},
   "outputs": [
    {
     "name": "stdout",
     "output_type": "stream",
     "text": [
      "Structure: PTV boost dcho\n",
      "-----\n",
      "DVH Type:  cumulative, abs dose: Gy, abs volume: cm3\n",
      "Volume:    34.62 cm3\n",
      "Max Dose:  63.92 Gy\n",
      "Min Dose:  55.69 Gy\n",
      "Mean Dose: 60.21 Gy\n",
      "D100:      55.68 Gy\n",
      "D98:       56.51 Gy\n",
      "D95:       57.15 Gy\n",
      "D2cc:      62.38 Gy\n"
     ]
    }
   ],
   "source": [
    "ptvboost_dvh.describe()"
   ]
  },
  {
   "cell_type": "markdown",
   "id": "ab87041b-893d-40f3-9c32-e7d605b64fcc",
   "metadata": {},
   "source": [
    "Dado que un *DVH* es una curva que relaciona dosis con volumen, los objetivos de prescripción y las restricciones de dosis que se imponen sobre los *DVH* pueden venir expresadas de dos maneras diferentes:\n",
    "\n",
    "- **Dxx** nos dice la dosis que recibe un volumen **xx**. Si **xx** se expresa sin unidades se refeiere a un porcentaje de volumen respecto al volumen total del órgano. Si se da con unidades se refiere lógicamente a volumen medido en esas unidades. Las propias dosis se pueden dar en valor absoluto medido en las unidades de dosis correspondiente o en valores relativos respecto a la dosis de prescripción del tratamiento.\n",
    "- **Vxx** nos dice el volumen de órgano que recibe la dosis **xx**. En este caso lo más habitual es que si no aparecen unidades se refiera a un valor de dosis en Gy. Por ejemplo un V20 inferior al 25% indicaría que se intenta conseguir que la dosis de 25 Gy sea recibida por menos del 25% del volumen del órgano afectado.\n",
    "\n",
    "Las siguientes celdas muestran ejemplos de cómo *interrogar* a los objetos `dvh` sobre estos parámetros"
   ]
  },
  {
   "cell_type": "code",
   "execution_count": 11,
   "id": "02908e80-4bbb-4a80-8401-1f16daa4378b",
   "metadata": {},
   "outputs": [
    {
     "data": {
      "text/plain": [
       "dvh.DVHValue(62.45, 'Gy')"
      ]
     },
     "execution_count": 11,
     "metadata": {},
     "output_type": "execute_result"
    }
   ],
   "source": [
    "ptvboost_dvh.D5"
   ]
  },
  {
   "cell_type": "code",
   "execution_count": 12,
   "id": "00d7f476-fd47-41d1-822c-edbec82d5061",
   "metadata": {},
   "outputs": [
    {
     "data": {
      "text/plain": [
       "dvh.DVHValue(4.963898916967509, '%')"
      ]
     },
     "execution_count": 12,
     "metadata": {},
     "output_type": "execute_result"
    }
   ],
   "source": [
    "ptvboost_dvh.relative_volume.statistic('V62.45Gy')"
   ]
  },
  {
   "cell_type": "code",
   "execution_count": 13,
   "id": "2cb42a25-13c5-4bfa-a3f3-82941b4fd6c8",
   "metadata": {},
   "outputs": [
    {
     "data": {
      "text/plain": [
       "dvh.DVHValue(1.71875, 'cm3')"
      ]
     },
     "execution_count": 13,
     "metadata": {},
     "output_type": "execute_result"
    }
   ],
   "source": [
    "ptvboost_dvh.statistic('V62.45Gy')"
   ]
  },
  {
   "cell_type": "markdown",
   "id": "8da32cfd-d9ed-466f-9eaf-cbe6f6127cc3",
   "metadata": {},
   "source": [
    "### Cuestiones\n",
    "\n",
    "9. Realizar una evaluación de los sigueientes criterios de prescripcioón de tratamiento y de tolerabilidad del tratamiento sobre el plan correspondiente\n",
    "\n",
    "\n",
    "| Plan | Volumen | Criterio |\n",
    "|----|-----|------|\n",
    "|Mama | PTV mama dcha | Al menos 95% cubierto por el 95% de la dosis de prescripción (50 Gy) |\n",
    "| | PTV mama dcha | No más del 5% cubierto por el 107% de la dosis de prescripción (50 Gy) |\n",
    "| | PTV boost dcho | Al menos 95% cubierto por el 95% de la dosis de prescripción (50 Gy) |\n",
    "| | PTV boost dcho | No más del 5% cubierto por el 107% de la dosis de prescripción (50 Gy) |\n",
    "| | Pulmón | Volumen de órgano que recibe 20 Gy o más inferior al 25% |\n",
    "|Boost | PTV boost dcho | Al menos 95% cubierto por el 95% de la dosis de prescripción (10 Gy) |\n",
    "| | PTV boost dcho | No más del 5% cubierto por el 107% de la dosis de prescripción (10 Gy) |\n",
    "|Suma | PTV boost dcho | Al menos 95% cubierto por el 95% de la dosis de prescripción (60 Gy) |\n",
    "| | PTV boost dcho | No más del 5% cubierto por el 107% de la dosis de prescripción (60 Gy) |\n",
    "| | Pulmón | Volumen de órgano que recibe 20 Gy o más inferior al 25% |\n",
    "|SIB | PTV mama dcha | Al menos 95% cubierto por el 95% de la dosis de prescripción (40 Gy) |\n",
    "| | PTV mama dcha | No más del 5% cubierto por el 107% de la dosis de prescripción (40 Gy) |\n",
    "| | PTV boost dcho | Al menos 95% cubierto por el 95% de la dosis de prescripción (48 Gy) |\n",
    "| | PTV boost dcho | No más del 5% cubierto por el 107% de la dosis de prescripción (48 Gy) |\n",
    "| | Pulmón | Volumen de órgano que recibe 18 Gy o más inferior al 25% |\n"
   ]
  },
  {
   "cell_type": "markdown",
   "id": "4af15df0-7738-411e-91c3-9f1586f44aed",
   "metadata": {},
   "source": [
    "# Radiobiología\n",
    "## Fraccionamiento y equivalencia de tratamientos\n",
    "\n",
    "En esta parte del cuaderno queremos utilizar el modelo lineal cuadrático para justificar los valores de prescripción y de restrincción sobre el pulmón que hemos utilizado en el apartado anterior.\n",
    "\n",
    "Segun el modelo lineal cuadrático una dosis absorbida $D$ administrada en un número de fracciones $n$ produce una dosis biológica equivalente $DBE$ dada por\n",
    "\\begin{equation}\n",
    "DBE = D\\,(1 + \\frac{D/n}{\\alpha/\\beta}) \n",
    "\\end{equation}\n",
    "\n",
    "donde el cociente $\\alpha/\\beta$ [Gy] es un parámetro específico del tejido que recibe la dosis.\n",
    "\n",
    "Dos esquemas de tratamiento son equivalentes si producen la misma $DBE$.\n",
    "\n",
    "### Cuestiones\n",
    "\n",
    "10. Calcular qué dosis se tiene que administrar al volumen PTV boost dcho si se quiere realizar el tratamiento en lugar de en forma secuencial, 25+5 fracciones, en forma concurrente, 25 fracciones.\n",
    "\n",
    "1. Repetir el cálculo anterior si queremos acelerar el tratamiento a 15 fracciones.\n",
    "\n",
    "1. Calcular para el tratamiento concurrente en 15 fracciones cuál es la nueva restricción que se tiene que imponer sobre el pulmón para tener la misma probablidad de complicaciones que aceptamos en el tratamiento secuencial.\n",
    "\n",
    "Considerar un $\\alpha/\\beta = 3$ tanto para el tejido de la mama como para el pulmón."
   ]
  },
  {
   "cell_type": "markdown",
   "id": "57a1e835-a10d-4703-80a1-c7cddb81d041",
   "metadata": {},
   "source": [
    "## Comparación de planes mediante DVHs\n",
    "\n",
    "Los histogramas dosis volumen se pueden almacenar en bruto en archivos de datos (csv, excel, etc). En investigación a menudo se analizan colecciones de DVHs para obtener conclusiones.\n",
    "\n",
    "En esta parte del cuaderno vamos a trabajar con los DVHs del tratamiento integrado y de la suma de las partes del tratamiento secuencial para analizar su equivalencia.\n",
    "\n",
    "Ejecutando la siguiente celda descargamos el archivo `DVHs.xlsx` en formato Excel con los dos DVHs en la carpeta `data`\n",
    "\n",
    "El archivo Excel tiene una hoja por cada tipo de tratamiento nombradas por la dosis media que debería recibir el PTV boost dcho como 48 Gy y 60 Gy respectivamente.\n",
    "\n",
    "Los datos están en columnas con encabezados descriptivos:\n",
    "- **Dr**: Dosis relativa a la dosis media del ptvBoost\n",
    "- **D**: Dosis absoluta\n",
    "- **Boost**: Dosis en el PTV boost dcho\n",
    "- **Mama**: Dosis en el PTV mama dcha\n",
    "- **Pulmon**: Dosis en en Pulmon Dcho"
   ]
  },
  {
   "cell_type": "code",
   "execution_count": null,
   "id": "5bb46039-19f6-4dcf-a14c-d11f60fa94db",
   "metadata": {},
   "outputs": [],
   "source": [
    "# Descargar los datos compartidos de Google Drive\n",
    "url = 'https://docs.google.com/spreadsheets/d/1GHyqh1MGdUisjAH0kltUAtf9bktWhaM9/edit?usp=sharing&ouid=109366532745677997406&rtpof=true&sd=true'\n",
    "output = '../data/DVHs.xlsx'\n",
    "gdown.download(url, output, quiet=False, fuzzy=True);"
   ]
  },
  {
   "cell_type": "markdown",
   "id": "5bd12cf4-121f-40d3-aa07-3dbe226695f7",
   "metadata": {},
   "source": [
    "En python una buena forma de manejar datos en formato Excel es mediante el módulo `pandas`.\n",
    "\n",
    "Este módulo lee la hoja indicada por `sheet_name` y almacena los datos en un objeto de tipo `DataFrame` que dispone de muchos métodos para manipular y visualizar sus datos.\n",
    "\n",
    "Para hacer gráficos el módulo de referencia es `matplotlib.pyplot`\n",
    "\n",
    "Importamos `pandas` y `matplotlib.pyplot`"
   ]
  },
  {
   "cell_type": "code",
   "execution_count": 35,
   "id": "1040d837-4ddb-426c-9c0e-3b6bdb401bfb",
   "metadata": {},
   "outputs": [],
   "source": [
    "import pandas as pd\n",
    "import matplotlib.pyplot as plt"
   ]
  },
  {
   "cell_type": "markdown",
   "id": "5bba47c7-252e-4ec6-a920-a2d7e876904f",
   "metadata": {},
   "source": [
    "Leemos los datos de los histogramas en sendos DataFrames"
   ]
  },
  {
   "cell_type": "code",
   "execution_count": 39,
   "id": "efeaa105-f655-4ef7-8cd6-b2d4cee49b91",
   "metadata": {},
   "outputs": [],
   "source": [
    "dvhSumadf = pd.read_excel('../data/DVHs.xlsx', sheet_name='60Gy')\n",
    "dvhSIBdf = pd.read_excel('../data/DVHs.xlsx', sheet_name='48Gy')"
   ]
  },
  {
   "cell_type": "markdown",
   "id": "d0214870-cd1e-48cd-86bb-837ee1e9382a",
   "metadata": {},
   "source": [
    "Representamos los histogramas. Cada curva la podemos representar mediante el método `plot.line`  del correspondiente DataFrame. \n",
    "\n",
    "Para que todas las curvas aparezcan en la misma gráfica necesitamos un objeto `axis` que creamos mediante el método `subplots` de `matplollib.pyplot`"
   ]
  },
  {
   "cell_type": "code",
   "execution_count": 40,
   "id": "1576c684-c5cf-4dd9-8e0c-ae02046a6957",
   "metadata": {},
   "outputs": [
    {
     "data": {
      "image/png": "[encoded data removed]",
      "text/plain": [
       "<Figure size 432x288 with 1 Axes>"
      ]
     },
     "metadata": {
      "needs_background": "light"
     },
     "output_type": "display_data"
    }
   ],
   "source": [
    "fig, ax = plt.subplots()\n",
    "\n",
    "dvhSumadf.plot.line(x='D', y='Boost', color='r', ax=ax, label='Suma Boost')\n",
    "dvhSumadf.plot.line(x='D', y='Mama', color='b', ax=ax, label ='Suma Mama')\n",
    "dvhSumadf.plot.line(x='D', y='Pulmon', color='g', ax=ax, label='Suma Pulmon')\n",
    "\n",
    "dvhSIBdf.plot.line(x='D', y='Boost', color='m', ax=ax, linestyle='-', label='SIB Boost')\n",
    "dvhSIBdf.plot.line(x='D', y='Mama', color='y', ax=ax, label='SIB Mama')\n",
    "dvhSIBdf.plot.line(x='D', y='Pulmon', color='b', ax=ax, label='SIB Pulmon')\n",
    "\n",
    "plt.legend(bbox_to_anchor=(1., 0.9))\n",
    "\n",
    "ax.set_ylabel('% Volumen')\n",
    "ax.set_xlabel('D [Gy]')\n",
    "\n",
    "plt.show()"
   ]
  },
  {
   "cell_type": "markdown",
   "id": "da70cd44-5f89-41bc-a960-3710db1502d7",
   "metadata": {},
   "source": [
    "La figura anterior nos permite visualizar simultáneamente las dosis de dos tratamientos distintos, pero no son directamente comparables porque tienen fraccionamientos diferentes.\n",
    "\n",
    "### Cuestiones\n",
    "\n",
    "Añadir a cada DataFrame una columna con la **DBE** dosis biológica equivalente correspondiente a la dosis $D$. Represenetar gráficamentelos los histogramas en  una figura en función de la **DBE**\n",
    "\n",
    "13. Analizar la equivalencia de los tratamientos expresados en **DBE**\n",
    "1. Definiendo conformación de la dosis como el grado de solapamiento espacial entre la distribución de la dosis y los volúmenes de tratamiento, ¿qué esquema de tratamiento produce una mejor conformación? Razonar la respeusta comentando las diferencias en los DVHs de los tres volúmenes. \n",
    "1. Repetir la cuestión anterior pero en términos de la **DBEQ2**\n",
    "1. Hacer una representación de los DVHs para el tratamiento secuencial en términos de la dosis $D$ y de **DBEQ2** y explicar porque no coinciden a pesar de que el concepto **DBEQ2** se introdujo para que los Oncólogos de Radioterapia pudieran comparar tratamientos realizados en fraccionamiento estándar de 2 Gy, que es cómo se ha realizado el tratamiento Suma."
   ]
  },
  {
   "cell_type": "markdown",
   "id": "81333eb8-4805-4c40-a7ca-944eedc4263e",
   "metadata": {},
   "source": [
    "### Cuestión\n",
    "\n",
    "17. Estudiar qué efecto tiene el fraccionamiento sobre la tolerabilidad del tratamiento si el α/β del pulmón fuera diferente al de la mama y al del tejido tumoral. Considerar un rango de variación α/β ∈ (1, 10)"
   ]
  },
  {
   "cell_type": "markdown",
   "id": "d118715f-7315-445a-8de6-70e2eaedc626",
   "metadata": {},
   "source": [
    "## Propuestas *premium*\n",
    "\n",
    "Cuestiones voluntarias, desarrollos interesantes que requieren tener conocimientos básicos de python\n",
    "\n",
    "1. Desarollar un gráfico que permita visualizar la distribución de dosis de forma interactiva y en en el se pueda seleccionear el intervalo de dosis $(D_{min}, D_{max})$, es decir, un gráfico en el se se visualizan por ejemplo las dosis comprendidas entre el 95% y el 107% de la dosis de prescripción.\n",
    "1. Desarrollar un gráfico en el que se represente la dosis biológica equivalente de los distintos esquemas de tratamiento. "
   ]
  }
 ],
 "metadata": {
  "kernelspec": {
   "display_name": "Python 3 (ipykernel)",
   "language": "python",
   "name": "python3"
  },
  "language_info": {
   "codemirror_mode": {
    "name": "ipython",
    "version": 3
   },
   "file_extension": ".py",
   "mimetype": "text/x-python",
   "name": "python",
   "nbconvert_exporter": "python",
   "pygments_lexer": "ipython3",
   "version": "3.9.7"
  }
 },
 "nbformat": 4,
 "nbformat_minor": 5
}
